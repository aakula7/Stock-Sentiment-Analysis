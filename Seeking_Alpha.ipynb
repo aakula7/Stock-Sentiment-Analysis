{
 "cells": [
  {
   "cell_type": "code",
   "execution_count": 54,
   "metadata": {},
   "outputs": [],
   "source": [
    "import requests\n",
    "import urllib.request\n",
    "import time\n",
    "from bs4 import BeautifulSoup\n",
    "import itertools"
   ]
  },
  {
   "cell_type": "code",
   "execution_count": 65,
   "metadata": {},
   "outputs": [
    {
     "name": "stdout",
     "output_type": "stream",
     "text": [
      "<!DOCTYPE html>\n",
      "<html lang=\"en\">\n",
      "<head>\n",
      "  <meta charset=\"utf-8\">\n",
      "  <meta name=\"viewport\" content=\"width=device-width, initial-scale=1\">\n",
      "  <title>Access to this page has been denied.</title>\n",
      "  <link href=\"https://fonts.googleapis.com/css?family=Open+Sans:300\" rel=\"stylesheet\">\n",
      "  <style>\n",
      "    html, body {\n",
      "      margin: 0;\n",
      "      padding: 0;\n",
      "      font-family: 'Open Sans', sans-serif;\n",
      "      color: #000;\n",
      "    }\n",
      "\n",
      "    .container {\n",
      "      align-items: center;\n",
      "      display: flex;\n",
      "      flex: 1;\n",
      "      justify-content: space-between;\n",
      "      flex-direction: column;\n",
      "      height: 100%;\n",
      "    }\n",
      "\n",
      "    .container > div {\n",
      "      width: 100%;\n",
      "      display: flex;\n",
      "      justify-content: center;\n",
      "    }\n",
      "\n",
      "    .container > div > div {\n",
      "      display: flex;\n",
      "      width: 80%;\n",
      "    }\n",
      "\n",
      "    .customer-logo-wrapper {\n",
      "      padding-top: 2rem;\n",
      "      flex-grow: 0;\n",
      "      background-color: #fff;\n",
      "    }\n",
      "\n",
      "    .customer-logo {\n",
      "      border-bottom: 1px solid #000;\n",
      "    }\n",
      "\n",
      "    .customer-logo > img {\n",
      "      padding-bottom: 1rem;\n",
      "      max-height: 50px;\n",
      "      max-width: 100%;\n",
      "    }\n",
      "\n",
      "    .page-title-wrapper {\n",
      "      flex-grow: 0;  /* was 2, but that pushed it too far down the page */\n",
      "    }\n",
      "\n",
      "    .page-title {\n",
      "      flex-direction: column-reverse;\n",
      "    }\n",
      "\n",
      "    .content-wrapper {\n",
      "      flex-grow: 5;\n",
      "    }\n",
      "\n",
      "    .content {\n",
      "      flex-direction: column;\n",
      "    }\n",
      "\n",
      "    @media (min-width: 768px) {\n",
      "      html, body {\n",
      "        height: 100%;\n",
      "      }\n",
      "    }\n",
      "  </style>\n",
      "  <script>\n",
      "    window._pxAppId = 'PXxgCxM9By';\n",
      "    window._pxJsClientSrc = '/xgCxM9By/init.js';\n",
      "    window._pxHostUrl = '/xgCxM9By/xhr';\n",
      "\n",
      "    startTime = Date.now();\n",
      "    window._pxOnCaptchaSuccess = function(isValid){\n",
      "      var solutionTime = Math.floor((Date.now() - startTime) / 1000);\n",
      "      var reload = function(){ top.location.reload(); };\n",
      "      sendEvent(\"captcha/solved?px_uuid=\" + window._pxUuid + \"&time_to_solution=\" + solutionTime + '&isValid=' + isValid, reload);\n",
      "      setTimeout(reload, 700);\n",
      "    };\n",
      "\n",
      "    function sendEvent(event, onload){\n",
      "      var xhr = new XMLHttpRequest();\n",
      "      xhr.open(\"GET\", \"/_sa_track/\" + event);\n",
      "      if (onload) xhr.addEventListener(\"load\", onload);\n",
      "      xhr.send();\n",
      "    }\n",
      "  </script>\n",
      "<script type=\"text/javascript\">window._pxVid = \"\";window._pxUuid = \"f9119a90-87f1-11ea-9f6d-2dc0d3f032c9\";</script></head>\n",
      "<body>\n",
      "<section class=\"container\">\n",
      "  <div class=\"page-title-wrapper\">\n",
      "    <div class=\"page-title\">\n",
      "      <h1>Please click âI am not a robotâ to continue</h1>\n",
      "    </div>\n",
      "  </div>\n",
      "  <div class=\"content-wrapper\">\n",
      "    <div class=\"content\">\n",
      "      <div id=\"px-captcha\"></div>\n",
      "      <p></p>\n",
      "      <p>\n",
      "        To ensure this doesnât happen in the future, please enable Javascript and cookies in your browser.<br/>\n",
      "        Is this happening to you frequently? Please <a href=\"https://seekingalpha.userecho.com?source=captcha\">report it on our feedback forum</a>.\n",
      "      </p>\n",
      "      <p>\n",
      "        If you have an ad-blocker enabled you may be blocked from proceeding. Please disable your ad-blocker and refresh.\n",
      "      </p>\n",
      "      <p>Reference ID: <span id=\"refid\"></span></p>\n",
      "    </div>\n",
      "  </div>\n",
      "  <script>\n",
      "    document.getElementById(\"refid\").innerHTML = window._pxUuid;\n",
      "    sendEvent(\"captcha/shown?px_uuid=\" + window._pxUuid);\n",
      "  </script>\n",
      "</section>\n",
      "\n",
      "<script src=\"/xgCxM9By/captcha/PXxgCxM9By/captcha.js?a=c&m=0\"></script>\n",
      "\n",
      "</body>\n",
      "</html>\n",
      "\n",
      "\n"
     ]
    }
   ],
   "source": [
    "url = \"https://seekingalpha.com/symbol/AAPL?news=news-all\"\n",
    "\n",
    "response = requests.get(url)\n",
    "\n",
    "print(response.text)\n"
   ]
  },
  {
   "cell_type": "code",
   "execution_count": 13,
   "metadata": {},
   "outputs": [],
   "source": [
    "soup = BeautifulSoup(response.text, 'html.parser')"
   ]
  },
  {
   "cell_type": "code",
   "execution_count": 18,
   "metadata": {},
   "outputs": [],
   "source": [
    "ls = soup.findAll('a')\n"
   ]
  },
  {
   "cell_type": "code",
   "execution_count": 20,
   "metadata": {},
   "outputs": [
    {
     "name": "stdout",
     "output_type": "stream",
     "text": [
      "<a href='\\\"/news/3563532-apple-prepping-own-mac-chip-for-2021\\\"' sasource='\\\"qp_latest\\\"'>Apple prepping own Mac chip for 2021</a>\n",
      "<a href='\\\"/news/3563228-apple-will-add-75minus-100b-in-buybacks-analysts\\\"' sasource='\\\"qp_latest\\\"'>Apple will add $75-100B in buybacks - analysts</a>\n",
      "<a href='\\\"/news/3562742-top-apple-analyst-sees-se-strength-cuts-q2-estimates\\\"' sasource='\\\"qp_latest\\\"'>Top Apple analyst sees SE strength, cuts Q2 estimates</a>\n",
      "<a href='\\\"/news/3562652-apple-running-behind-on-iphone-12-nomura\\\"' sasource='\\\"qp_latest\\\"'>Apple running behind on iPhone 12 - Nomura</a>\n",
      "<a href='\\\"/news/3562506-apple-wants-to-boost-iphone-production-nikkei\\\"' sasource='\\\"qp_latest\\\"'>Apple wants to boost iPhone production - Nikkei</a>\n",
      "<a href='\\\"/news/3562372-apples-biggest-services-expansion-in-decade\\\"' sasource='\\\"qp_latest\\\"'>Apple's biggest services expansion in a decade</a>\n",
      "<a href='\\\"/news/3561774-leadership-change-apples-beats\\\"' sasource='\\\"qp_latest\\\"'>Leadership change at Apple's Beats</a>\n",
      "<a href='\\\"/news/3561613-apple-cut-to-sell-20-downside-goldman\\\"' sasource='\\\"qp_latest\\\"'>Apple cut to Sell with 20% downside at Goldman</a>\n",
      "<a href='\\\"/news/3561426-apple-gradually-reopens-stores-outside-china\\\"' sasource='\\\"qp_latest\\\"'>Apple gradually reopens stores outside China</a>\n",
      "<a href='\\\"/news/3560937-apple-unveils-new-budget-iphone-virtual-launch\\\"' sasource='\\\"qp_latest\\\"'>Apple unveils new budget iPhone with virtual launch</a>\n",
      "<a href='\\\"/news/3560580-apple-launches-virus-tracking-tool-clarifies-contact-tracing\\\"' sasource='\\\"qp_latest\\\"'>Apple launches virus-tracking tool, clarifies contact tracing</a>\n",
      "<a href='\\\"/news/3560433-apple-iphone-sales-recovering-in-china\\\"' sasource='\\\"qp_latest\\\"'>Apple iPhone sales recovering in China</a>\n",
      "<a href='\\\"/news/3560344-trump-agreed-to-mitigation-efforts-first-recommendation-coronavirus-briefing\\\"' sasource='\\\"qp_latest\\\"'>Trump agreed to mitigation efforts at first recommendation: Coronavirus briefing</a>\n",
      "<a href='\\\"/news/3560206-apple-target-cut-on-iphone-weakness\\\"' sasource='\\\"qp_latest\\\"'>Apple target cut on iPhone weakness</a>\n",
      "<a href='\\\"/news/3560002-apps-collecting-data-to-help-stop-virus-spread-invade-privacy-expert-says\\\"' sasource='\\\"qp_latest\\\"'>Apps collecting data to help stop virus spread could invade privacy, expert says</a>\n"
     ]
    }
   ],
   "source": [
    "for item in itertools.islice(ls, 1, None, 2):  # start and stop None, step 2\n",
    "    print(item)"
   ]
  },
  {
   "cell_type": "code",
   "execution_count": 46,
   "metadata": {},
   "outputs": [],
   "source": [
    "# div_ls = soup.findAll('div')\n",
    "# div_ls[]"
   ]
  },
  {
   "cell_type": "code",
   "execution_count": 56,
   "metadata": {},
   "outputs": [
    {
     "name": "stdout",
     "output_type": "stream",
     "text": [
      "<a href='\\\"/news/3563532-apple-prepping-own-mac-chip-for-2021\\\"' sasource='\\\"qp_latest\\\"'>Apple prepping own Mac chip for 2021</a>\n",
      "<a href='\\\"/news/3563228-apple-will-add-75minus-100b-in-buybacks-analysts\\\"' sasource='\\\"qp_latest\\\"'>Apple will add $75-100B in buybacks - analysts</a>\n",
      "<a href='\\\"/news/3562742-top-apple-analyst-sees-se-strength-cuts-q2-estimates\\\"' sasource='\\\"qp_latest\\\"'>Top Apple analyst sees SE strength, cuts Q2 estimates</a>\n",
      "<a href='\\\"/news/3562652-apple-running-behind-on-iphone-12-nomura\\\"' sasource='\\\"qp_latest\\\"'>Apple running behind on iPhone 12 - Nomura</a>\n",
      "<a href='\\\"/news/3562506-apple-wants-to-boost-iphone-production-nikkei\\\"' sasource='\\\"qp_latest\\\"'>Apple wants to boost iPhone production - Nikkei</a>\n",
      "<a href='\\\"/news/3562372-apples-biggest-services-expansion-in-decade\\\"' sasource='\\\"qp_latest\\\"'>Apple's biggest services expansion in a decade</a>\n",
      "<a href='\\\"/news/3561774-leadership-change-apples-beats\\\"' sasource='\\\"qp_latest\\\"'>Leadership change at Apple's Beats</a>\n",
      "<a href='\\\"/news/3561613-apple-cut-to-sell-20-downside-goldman\\\"' sasource='\\\"qp_latest\\\"'>Apple cut to Sell with 20% downside at Goldman</a>\n",
      "<a href='\\\"/news/3561426-apple-gradually-reopens-stores-outside-china\\\"' sasource='\\\"qp_latest\\\"'>Apple gradually reopens stores outside China</a>\n",
      "<a href='\\\"/news/3560937-apple-unveils-new-budget-iphone-virtual-launch\\\"' sasource='\\\"qp_latest\\\"'>Apple unveils new budget iPhone with virtual launch</a>\n",
      "<a href='\\\"/news/3560580-apple-launches-virus-tracking-tool-clarifies-contact-tracing\\\"' sasource='\\\"qp_latest\\\"'>Apple launches virus-tracking tool, clarifies contact tracing</a>\n",
      "<a href='\\\"/news/3560433-apple-iphone-sales-recovering-in-china\\\"' sasource='\\\"qp_latest\\\"'>Apple iPhone sales recovering in China</a>\n",
      "<a href='\\\"/news/3560344-trump-agreed-to-mitigation-efforts-first-recommendation-coronavirus-briefing\\\"' sasource='\\\"qp_latest\\\"'>Trump agreed to mitigation efforts at first recommendation: Coronavirus briefing</a>\n",
      "<a href='\\\"/news/3560206-apple-target-cut-on-iphone-weakness\\\"' sasource='\\\"qp_latest\\\"'>Apple target cut on iPhone weakness</a>\n",
      "<a href='\\\"/news/3560002-apps-collecting-data-to-help-stop-virus-spread-invade-privacy-expert-says\\\"' sasource='\\\"qp_latest\\\"'>Apps collecting data to help stop virus spread could invade privacy, expert says</a>\n"
     ]
    }
   ],
   "source": [
    "import requests\n",
    "\n",
    "url = \"https://seekingalpha.com/symbol/AAPL/news/more_latest_news\"\n",
    "\n",
    "payload = {}\n",
    "headers = {\n",
    "  'Cookie': 'machine_cookie=9203269248845'\n",
    "}\n",
    "\n",
    "response = requests.request(\"GET\", url, headers=headers, data = payload)\n",
    "soup = BeautifulSoup(response.text, 'html.parser')\n",
    "\n",
    "ls = soup.findAll('a')\n",
    "\n",
    "for item in itertools.islice(ls, 1, None, 2):  # start and stop None, step 2\n",
    "    print(item)"
   ]
  },
  {
   "cell_type": "code",
   "execution_count": 59,
   "metadata": {},
   "outputs": [
    {
     "name": "stdout",
     "output_type": "stream",
     "text": [
      "b'<!DOCTYPE html>\\n<html lang=\"en\">\\n<head>\\n  <meta charset=\"utf-8\">\\n  <meta name=\"viewport\" content=\"width=device-width, initial-scale=1\">\\n  <title>Access to this page has been denied.</title>\\n  <link href=\"https://fonts.googleapis.com/css?family=Open+Sans:300\" rel=\"stylesheet\">\\n  <style>\\n    html, body {\\n      margin: 0;\\n      padding: 0;\\n      font-family: \\'Open Sans\\', sans-serif;\\n      color: #000;\\n    }\\n\\n    .container {\\n      align-items: center;\\n      display: flex;\\n      flex: 1;\\n      justify-content: space-between;\\n      flex-direction: column;\\n      height: 100%;\\n    }\\n\\n    .container > div {\\n      width: 100%;\\n      display: flex;\\n      justify-content: center;\\n    }\\n\\n    .container > div > div {\\n      display: flex;\\n      width: 80%;\\n    }\\n\\n    .customer-logo-wrapper {\\n      padding-top: 2rem;\\n      flex-grow: 0;\\n      background-color: #fff;\\n    }\\n\\n    .customer-logo {\\n      border-bottom: 1px solid #000;\\n    }\\n\\n    .customer-logo > img {\\n      padding-bottom: 1rem;\\n      max-height: 50px;\\n      max-width: 100%;\\n    }\\n\\n    .page-title-wrapper {\\n      flex-grow: 0;  /* was 2, but that pushed it too far down the page */\\n    }\\n\\n    .page-title {\\n      flex-direction: column-reverse;\\n    }\\n\\n    .content-wrapper {\\n      flex-grow: 5;\\n    }\\n\\n    .content {\\n      flex-direction: column;\\n    }\\n\\n    @media (min-width: 768px) {\\n      html, body {\\n        height: 100%;\\n      }\\n    }\\n  </style>\\n  <script>\\n    window._pxAppId = \\'PXxgCxM9By\\';\\n    window._pxJsClientSrc = \\'/xgCxM9By/init.js\\';\\n    window._pxHostUrl = \\'/xgCxM9By/xhr\\';\\n\\n    startTime = Date.now();\\n    window._pxOnCaptchaSuccess = function(isValid){\\n      var solutionTime = Math.floor((Date.now() - startTime) / 1000);\\n      var reload = function(){ top.location.reload(); };\\n      sendEvent(\"captcha/solved?px_uuid=\" + window._pxUuid + \"&time_to_solution=\" + solutionTime + \\'&isValid=\\' + isValid, reload);\\n      setTimeout(reload, 700);\\n    };\\n\\n    function sendEvent(event, onload){\\n      var xhr = new XMLHttpRequest();\\n      xhr.open(\"GET\", \"/_sa_track/\" + event);\\n      if (onload) xhr.addEventListener(\"load\", onload);\\n      xhr.send();\\n    }\\n  </script>\\n<script type=\"text/javascript\">window._pxVid = \"\";window._pxUuid = \"407a1f80-86fb-11ea-84df-13f0764fa28b\";</script></head>\\n<body>\\n<section class=\"container\">\\n  <div class=\"page-title-wrapper\">\\n    <div class=\"page-title\">\\n      <h1>Please click \\xe2\\x80\\x9cI am not a robot\\xe2\\x80\\x9d to continue</h1>\\n    </div>\\n  </div>\\n  <div class=\"content-wrapper\">\\n    <div class=\"content\">\\n      <div id=\"px-captcha\"></div>\\n      <p></p>\\n      <p>\\n        To ensure this doesn\\xe2\\x80\\x99t happen in the future, please enable Javascript and cookies in your browser.<br/>\\n        Is this happening to you frequently? Please <a href=\"https://seekingalpha.userecho.com?source=captcha\">report it on our feedback forum</a>.\\n      </p>\\n      <p>\\n        If you have an ad-blocker enabled you may be blocked from proceeding. Please disable your ad-blocker and refresh.\\n      </p>\\n      <p>Reference ID: <span id=\"refid\"></span></p>\\n    </div>\\n  </div>\\n  <script>\\n    document.getElementById(\"refid\").innerHTML = window._pxUuid;\\n    sendEvent(\"captcha/shown?px_uuid=\" + window._pxUuid);\\n  </script>\\n</section>\\n\\n<script src=\"/xgCxM9By/captcha/PXxgCxM9By/captcha.js?a=c&m=0\"></script>\\n\\n</body>\\n</html>\\n\\n'\n"
     ]
    },
    {
     "ename": "IndexError",
     "evalue": "list index out of range",
     "output_type": "error",
     "traceback": [
      "\u001b[1;31m---------------------------------------------------------------------------\u001b[0m",
      "\u001b[1;31mIndexError\u001b[0m                                Traceback (most recent call last)",
      "\u001b[1;32m<ipython-input-59-ad41e89a1d07>\u001b[0m in \u001b[0;36m<module>\u001b[1;34m\u001b[0m\n\u001b[0;32m     25\u001b[0m \u001b[1;33m\u001b[0m\u001b[0m\n\u001b[0;32m     26\u001b[0m \u001b[1;31m# print texts in first element in list\u001b[0m\u001b[1;33m\u001b[0m\u001b[1;33m\u001b[0m\u001b[1;33m\u001b[0m\u001b[0m\n\u001b[1;32m---> 27\u001b[1;33m \u001b[0mprint\u001b[0m\u001b[1;33m(\u001b[0m\u001b[0mtree\u001b[0m\u001b[1;33m[\u001b[0m\u001b[1;36m0\u001b[0m\u001b[1;33m]\u001b[0m\u001b[1;33m.\u001b[0m\u001b[0mtext_content\u001b[0m\u001b[1;33m(\u001b[0m\u001b[1;33m)\u001b[0m\u001b[1;33m)\u001b[0m\u001b[1;33m\u001b[0m\u001b[1;33m\u001b[0m\u001b[0m\n\u001b[0m",
      "\u001b[1;31mIndexError\u001b[0m: list index out of range"
     ]
    }
   ],
   "source": [
    "# Python3 code implementing web scraping using lxml \n",
    "  \n",
    "import requests \n",
    "  \n",
    "# import only html class \n",
    "from lxml import html  \n",
    "  \n",
    "# url to scrape data from \n",
    "url = 'https://seekingalpha.com/symbol/AAPL/news/more_latest_news'\n",
    "\n",
    "# path to particular element \n",
    "path = '//*[@id =\"post-183376\"]/div / p'\n",
    "  \n",
    "# get response object \n",
    "response = requests.get(url) \n",
    "  \n",
    "# get byte string \n",
    "byte_data = response.content \n",
    "print(byte_data)  \n",
    "# get filtered source code \n",
    "source_code = html.fromstring(byte_data) \n",
    "  \n",
    "# jump to preferred html element \n",
    "tree = source_code.xpath(path) \n",
    "  \n",
    "# print texts in first element in list \n",
    "print(tree[0].text_content()) "
   ]
  },
  {
   "cell_type": "code",
   "execution_count": null,
   "metadata": {},
   "outputs": [],
   "source": []
  }
 ],
 "metadata": {
  "kernelspec": {
   "display_name": "Python 3",
   "language": "python",
   "name": "python3"
  },
  "language_info": {
   "codemirror_mode": {
    "name": "ipython",
    "version": 3
   },
   "file_extension": ".py",
   "mimetype": "text/x-python",
   "name": "python",
   "nbconvert_exporter": "python",
   "pygments_lexer": "ipython3",
   "version": "3.7.6"
  }
 },
 "nbformat": 4,
 "nbformat_minor": 4
}
