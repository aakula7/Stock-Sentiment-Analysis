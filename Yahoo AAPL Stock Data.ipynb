{
 "cells": [
  {
   "cell_type": "code",
   "execution_count": 1,
   "metadata": {},
   "outputs": [
    {
     "name": "stderr",
     "output_type": "stream",
     "text": [
      "c:\\python38\\lib\\site-packages\\pandas_datareader\\compat\\__init__.py:7: FutureWarning: pandas.util.testing is deprecated. Use the functions in the public API at pandas.testing instead.\n",
      "  from pandas.util.testing import assert_frame_equal\n"
     ]
    }
   ],
   "source": [
    "import pandas as pd\n",
    "import numpy as np\n",
    "import datetime as dt\n",
    "import pandas_datareader.data as web"
   ]
  },
  {
   "cell_type": "code",
   "execution_count": 2,
   "metadata": {},
   "outputs": [],
   "source": [
    "start = dt.datetime(2020,3,20)\n",
    "end = dt.datetime(2020,4,24)"
   ]
  },
  {
   "cell_type": "code",
   "execution_count": 3,
   "metadata": {},
   "outputs": [
    {
     "data": {
      "text/html": [
       "<div>\n",
       "<style scoped>\n",
       "    .dataframe tbody tr th:only-of-type {\n",
       "        vertical-align: middle;\n",
       "    }\n",
       "\n",
       "    .dataframe tbody tr th {\n",
       "        vertical-align: top;\n",
       "    }\n",
       "\n",
       "    .dataframe thead th {\n",
       "        text-align: right;\n",
       "    }\n",
       "</style>\n",
       "<table border=\"1\" class=\"dataframe\">\n",
       "  <thead>\n",
       "    <tr style=\"text-align: right;\">\n",
       "      <th></th>\n",
       "      <th>High</th>\n",
       "      <th>Low</th>\n",
       "      <th>Open</th>\n",
       "      <th>Close</th>\n",
       "      <th>Volume</th>\n",
       "      <th>Adj Close</th>\n",
       "    </tr>\n",
       "    <tr>\n",
       "      <th>Date</th>\n",
       "      <th></th>\n",
       "      <th></th>\n",
       "      <th></th>\n",
       "      <th></th>\n",
       "      <th></th>\n",
       "      <th></th>\n",
       "    </tr>\n",
       "  </thead>\n",
       "  <tbody>\n",
       "    <tr>\n",
       "      <th>2020-03-20</th>\n",
       "      <td>251.830002</td>\n",
       "      <td>228.000000</td>\n",
       "      <td>247.179993</td>\n",
       "      <td>229.240005</td>\n",
       "      <td>100423300</td>\n",
       "      <td>229.240005</td>\n",
       "    </tr>\n",
       "    <tr>\n",
       "      <th>2020-03-23</th>\n",
       "      <td>228.500000</td>\n",
       "      <td>212.610001</td>\n",
       "      <td>228.080002</td>\n",
       "      <td>224.369995</td>\n",
       "      <td>84188200</td>\n",
       "      <td>224.369995</td>\n",
       "    </tr>\n",
       "    <tr>\n",
       "      <th>2020-03-24</th>\n",
       "      <td>247.690002</td>\n",
       "      <td>234.300003</td>\n",
       "      <td>236.360001</td>\n",
       "      <td>246.880005</td>\n",
       "      <td>71882800</td>\n",
       "      <td>246.880005</td>\n",
       "    </tr>\n",
       "    <tr>\n",
       "      <th>2020-03-25</th>\n",
       "      <td>258.250000</td>\n",
       "      <td>244.300003</td>\n",
       "      <td>250.750000</td>\n",
       "      <td>245.520004</td>\n",
       "      <td>75900500</td>\n",
       "      <td>245.520004</td>\n",
       "    </tr>\n",
       "    <tr>\n",
       "      <th>2020-03-26</th>\n",
       "      <td>258.679993</td>\n",
       "      <td>246.360001</td>\n",
       "      <td>246.520004</td>\n",
       "      <td>258.440002</td>\n",
       "      <td>63021800</td>\n",
       "      <td>258.440002</td>\n",
       "    </tr>\n",
       "  </tbody>\n",
       "</table>\n",
       "</div>"
      ],
      "text/plain": [
       "                  High         Low        Open       Close     Volume  \\\n",
       "Date                                                                    \n",
       "2020-03-20  251.830002  228.000000  247.179993  229.240005  100423300   \n",
       "2020-03-23  228.500000  212.610001  228.080002  224.369995   84188200   \n",
       "2020-03-24  247.690002  234.300003  236.360001  246.880005   71882800   \n",
       "2020-03-25  258.250000  244.300003  250.750000  245.520004   75900500   \n",
       "2020-03-26  258.679993  246.360001  246.520004  258.440002   63021800   \n",
       "\n",
       "             Adj Close  \n",
       "Date                    \n",
       "2020-03-20  229.240005  \n",
       "2020-03-23  224.369995  \n",
       "2020-03-24  246.880005  \n",
       "2020-03-25  245.520004  \n",
       "2020-03-26  258.440002  "
      ]
     },
     "execution_count": 3,
     "metadata": {},
     "output_type": "execute_result"
    }
   ],
   "source": [
    "AAPL_df = web.DataReader('AAPL', 'yahoo', start, end)\n",
    "\n",
    "AAPL_df.head()"
   ]
  },
  {
   "cell_type": "code",
   "execution_count": 4,
   "metadata": {},
   "outputs": [],
   "source": [
    "AAPL_df.reset_index(inplace = True)\n",
    "AAPL_df.set_index('Date', inplace = True)\n",
    "AAPL_df.to_csv('AAPL_Yahoo.csv')"
   ]
  },
  {
   "cell_type": "code",
   "execution_count": null,
   "metadata": {},
   "outputs": [],
   "source": []
  }
 ],
 "metadata": {
  "kernelspec": {
   "display_name": "Python 3",
   "language": "python",
   "name": "python3"
  },
  "language_info": {
   "codemirror_mode": {
    "name": "ipython",
    "version": 3
   },
   "file_extension": ".py",
   "mimetype": "text/x-python",
   "name": "python",
   "nbconvert_exporter": "python",
   "pygments_lexer": "ipython3",
   "version": "3.8.2"
  }
 },
 "nbformat": 4,
 "nbformat_minor": 2
}
